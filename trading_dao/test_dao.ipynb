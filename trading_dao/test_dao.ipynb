{
 "cells": [
  {
   "cell_type": "code",
   "execution_count": 1,
   "metadata": {},
   "outputs": [
    {
     "data": {
      "text/plain": [
       "[(UUID('5d8a0705-2ab5-453b-814c-2253012e3ec4'),\n",
       "  'ca7e41ae-ac48-46ae-88a4-ae687c8a2e7b',\n",
       "  datetime.datetime(2024, 3, 17, 16, 10, 36, 194315),\n",
       "  datetime.datetime(2024, 3, 17, 16, 10, 36, 194315),\n",
       "  datetime.datetime(2024, 3, 17, 16, 10, 36, 193451),\n",
       "  None,\n",
       "  None,\n",
       "  None,\n",
       "  None,\n",
       "  UUID('b0b6dd9d-8b9b-48a9-ba46-b9d54906e415'),\n",
       "  'AAPL',\n",
       "  'us_equity',\n",
       "  10.0,\n",
       "  None,\n",
       "  0.0,\n",
       "  None,\n",
       "  'simple',\n",
       "  'market',\n",
       "  'market',\n",
       "  'buy',\n",
       "  'day',\n",
       "  None,\n",
       "  None,\n",
       "  'accepted',\n",
       "  False,\n",
       "  None,\n",
       "  None,\n",
       "  None)]"
      ]
     },
     "execution_count": 1,
     "metadata": {},
     "output_type": "execute_result"
    }
   ],
   "source": [
    "import trade_dao\n",
    "\n",
    "trade_dao.TradeDAO(connection_path='/home/tpcm/trading-bot/trades_db/trades_db.db').get_all_trades()\n"
   ]
  }
 ],
 "metadata": {
  "kernelspec": {
   "display_name": ".venv",
   "language": "python",
   "name": "python3"
  },
  "language_info": {
   "codemirror_mode": {
    "name": "ipython",
    "version": 3
   },
   "file_extension": ".py",
   "mimetype": "text/x-python",
   "name": "python",
   "nbconvert_exporter": "python",
   "pygments_lexer": "ipython3",
   "version": "3.12.2"
  }
 },
 "nbformat": 4,
 "nbformat_minor": 2
}
